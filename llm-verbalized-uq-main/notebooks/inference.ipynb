{
 "cells": [
  {
   "cell_type": "code",
   "execution_count": null,
   "metadata": {},
   "outputs": [],
   "source": [
    "%load_ext autoreload\n",
    "%autoreload 2\n",
    "\n",
    "import sys\n",
    "sys.path.append(\"../src\")"
   ]
  },
  {
   "cell_type": "code",
   "execution_count": null,
   "metadata": {},
   "outputs": [],
   "source": [
    "import logging\n",
    "import random\n",
    "import time\n",
    "\n",
    "import matplotlib.pyplot as plt\n",
    "\n",
    "from benchmark import load_dataset, load_model, load_prompt_method\n",
    "from utils_ext.tools import setup_logging\n",
    "\n",
    "plt.ioff()\n",
    "setup_logging()\n",
    "\n",
    "logger = logging.getLogger(__name__)\n",
    "\n",
    "PATH_OUTPUT = \"../results\""
   ]
  },
  {
   "cell_type": "code",
   "execution_count": null,
   "metadata": {},
   "outputs": [],
   "source": [
    "DATASET_CACHE = {}"
   ]
  },
  {
   "cell_type": "markdown",
   "metadata": {},
   "source": [
    "## Load dataset, model, prompt method"
   ]
  },
  {
   "cell_type": "code",
   "execution_count": null,
   "metadata": {},
   "outputs": [],
   "source": [
    "dataset = load_dataset(\"arc-c\", dataset_cache=DATASET_CACHE)"
   ]
  },
  {
   "cell_type": "code",
   "execution_count": null,
   "metadata": {},
   "outputs": [],
   "source": [
    "model = load_model(\"gemma1.1-2b-it\")"
   ]
  },
  {
   "cell_type": "code",
   "execution_count": null,
   "metadata": {},
   "outputs": [],
   "source": [
    "prompt_method = load_prompt_method(\"basic_1s\")"
   ]
  },
  {
   "cell_type": "markdown",
   "metadata": {},
   "source": [
    "## Run single prompt inference"
   ]
  },
  {
   "cell_type": "code",
   "execution_count": null,
   "metadata": {},
   "outputs": [],
   "source": [
    "# random question\n",
    "prompt = random.choice(dataset)\n",
    "\n",
    "# specific question\n",
    "# prompt = dataset[dataset.id2index[\"QUESTION_ID\"]]\n",
    "\n",
    "start = time.perf_counter()\n",
    "responses, statistics = prompt_method.generate_response(model, prompt, verbose=True)\n",
    "answer, confidence = prompt_method.extract_answer(responses)\n",
    "is_correct = dataset.evaluate_answer(answer, prompt[\"correct_answer\"])\n",
    "end = time.perf_counter()\n",
    "\n",
    "print()\n",
    "print(\"id:             \", prompt[\"id\"])\n",
    "print(\"correct_answer: \", prompt[\"correct_answer\"])\n",
    "print(\"answer:         \", answer)\n",
    "print(\"confidence:     \", confidence)\n",
    "print(\"is_correct:     \", is_correct)\n",
    "print(\"time:           \", f\"{end-start:.2f}s\")\n",
    "print(\"statistics:     \", statistics)"
   ]
  },
  {
   "cell_type": "markdown",
   "metadata": {},
   "source": [
    "## Run batch API inference"
   ]
  },
  {
   "cell_type": "code",
   "execution_count": null,
   "metadata": {},
   "outputs": [],
   "source": [
    "model.create_batch(\n",
    "    path_requests=f\"{PATH_OUTPUT}/batch/batch_requests.jsonl\",\n",
    "    path_responses=f\"{PATH_OUTPUT}/batch/batch_responses.jsonl\",\n",
    ")\n",
    "for i in range(5):\n",
    "    prompt = random.choice(dataset)\n",
    "    prompt_method.generate_response(model, prompt)\n",
    "results = model.submit_batch(verbose=True)\n",
    "\n",
    "print(\"Total cost: ¢ \", sum(statistics[\"compl_costs\"] * 100 for _, statistics in results.values()))\n",
    "for id, (response, statistics) in results.items():\n",
    "    prompt = dataset[dataset.id2index[id]]\n",
    "    answer, confidence = prompt_method.extract_answer([response])\n",
    "    is_correct = dataset.evaluate_answer(answer, prompt[\"correct_answer\"])\n",
    "    print()\n",
    "    print(\"id:             \", prompt[\"id\"])\n",
    "    print(\"correct_answer: \", prompt[\"correct_answer\"])\n",
    "    print(\"answer:         \", answer)\n",
    "    print(\"confidence:     \", confidence)\n",
    "    print(\"is_correct:     \", is_correct)\n",
    "    print(\"time:           \", f\"{end-start:.2f}s\")\n",
    "    print(\"statistics:     \", statistics)"
   ]
  }
 ],
 "metadata": {
  "kernelspec": {
   "display_name": "llm_uq",
   "language": "python",
   "name": "python3"
  },
  "language_info": {
   "codemirror_mode": {
    "name": "ipython",
    "version": 3
   },
   "file_extension": ".py",
   "mimetype": "text/x-python",
   "name": "python",
   "nbconvert_exporter": "python",
   "pygments_lexer": "ipython3",
   "version": "3.12.4"
  }
 },
 "nbformat": 4,
 "nbformat_minor": 2
}
